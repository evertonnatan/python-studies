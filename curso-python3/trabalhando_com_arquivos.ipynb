{
 "cells": [
  {
   "cell_type": "markdown",
   "metadata": {},
   "source": [
    "## <a href=\"https://panda.ime.usp.br/pensepy/static/pensepy/10-Arquivos/files.html#trabalhando-com-arquivos\">Trabalhando com Arquivos</a>"
   ]
  },
  {
   "cell_type": "markdown",
   "metadata": {},
   "source": [
    "Até agora, os dados que temos usado nos programas deste livro ou estão inseridos diretamente no código ou são digitados pelo usuário a medida que são lidos. Na vida real dados estão em um arquivo. Por exemplo as imagens na unidade de processamento de imagens residem em arquivos que estão no disco rígido (hard drive) do seu computador. Página na Internet, documentos, músicas são outros exemplos de dados que vivem em arquivos. Neste capítulo apresentaremos de maneira sucinta os conceitos de Python necessários para usar em programas dados que estão em arquivos.\n",
    "\n",
    "Para os nossos propósitos, suporemos que os nosso arquivos de dados contém texto–isto é, arquivos de caracteres. Os programas em Python que você escreve são armazenados em arquivos de texto. Podemos criar esses arquivos de diversas maneiras. Por exemplo, podemos usar um editor de textos para digitar e salvar os dados. Podemos também baixar (download) os dados de uma página na Internet (website) e salvá-los em um arquivo. Não importa como os arquivos são criados, Python nos permitirá manipular o seu conteúdo.\n",
    "\n",
    "Em Python, devemos abrir (open) arquivos antes de usá-los e fechar (close) os arquivos depois de que tivermos terminado de utilizá-los. Como você pode imaginar, depois de aberto um arquivo passa a ser um objeto Python de maneira semelhante que outros dados. Table 1 mostra os métodos que podem ser usados para abrir e fechar arquivos.\n",
    "\n",
    "<table style=\"width:40%\">\n",
    "<tr>\n",
    "<th>Nome de Método</th>\n",
    "<th>Uso</th>\n",
    "<th>Explicação</th>\n",
    "</tr>\n",
    "<tr>\n",
    "<td>open</td>\n",
    "<td>open(nome_arquivo,'r')</td>\n",
    "<td>Abre um arquivo chamado nome_arquivo e o usa para leitura. Retorna uma referëncia para um objeto file.</td>\n",
    "</tr>\n",
    "<tr>\n",
    "<td>open</td>\n",
    "<td>open(nome_arquivo,'w')</td>\n",
    "<td>Abre um arquivo chamado nome_arquivo e o usa para escrita. Retorna uma referëncia para um objeto file.</td>\n",
    "</tr>\n",
    "<tr>\n",
    "<td>close</td>\n",
    "<td>ref_arquivo.close()</td>\n",
    "<td>Utilização do arquivo referenciado pela variável ref_arquivo terminou.</td>\n",
    "</tr>\n",
    "<tr>\n",
    "</tr>\n",
    "</table>"
   ]
  },
  {
   "cell_type": "markdown",
   "metadata": {},
   "source": []
  },
  {
   "cell_type": "markdown",
   "metadata": {},
   "source": [
    "## <a href=\"https://panda.ime.usp.br/pensepy/static/pensepy/10-Arquivos/files.html#encontrando-um-arquivo-disco\">Encontrando um arquivo no disco</a>"
   ]
  },
  {
   "cell_type": "markdown",
   "metadata": {},
   "source": [
    "Abrir um arquivo requer que você, como programador, e o Python entre em acordo sobre onde está o arquivo no seu disco. A maneira que os arquivos são localizados no disco e através do seu caminho (path). Você pode pensar em nome_arquivo como o primeiro nome do arquivo e o caminho como o nome completo. Por exemplo em um Mac se o usuário hofstadter salvar o arquivo penny.txt no seu diretório (home directory) o caminho é */Users/hofstadter/penny.txt*. No Linux caminho poderia ser */home/hofstadter/penny.txt* . No computadores com o sistema operacional Windows o caminho parece um pouco diferente, mas os princípios são os mesmos. Por exemplo no Windows o caminho poderia ser *C:\\Users\\hofstadter\\My Documents\\penny.txt*.\n",
    "\n",
    "Você também pode acessar arquivos em pastas (folders), também chamados de diretórios (directories), no seu diretório adicionando um barra e o nome da pasta. Por exemplo, suponha que em um Mac o usuário hofstadter` armazena arquivos para usar com o editor PyCharm na pasta MAC2166, que por sua vez está dentro da pasta ProjetosPyCharm. O nome completo de um arquivo ```penny.py``` armazenado na pasta MAC2166 seria */Users/hofstadter/ProjetosPyCharm/MAC2166/penny.py*\n",
    "\n",
    "Aqui está uma regra importante para ser lembrada: se o seu arquivo de dados e o seu programa Python estão no mesmo diretório você pode usar simplesmente o nome do arquivo. open('penny.txt','r') . Se o seu arquivo de dados e o seu programa Python estão em diretórios diferentes então você deve usar o caminho até o arquivo open('/Users/hofstadter/penny.txt','r')."
   ]
  },
  {
   "cell_type": "markdown",
   "metadata": {},
   "source": []
  }
 ],
 "metadata": {
  "language_info": {
   "name": "python"
  },
  "orig_nbformat": 4
 },
 "nbformat": 4,
 "nbformat_minor": 2
}
