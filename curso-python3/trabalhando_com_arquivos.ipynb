{
 "cells": [
  {
   "cell_type": "markdown",
   "metadata": {},
   "source": [
    "## <a href=\"https://panda.ime.usp.br/pensepy/static/pensepy/10-Arquivos/files.html#trabalhando-com-arquivos\">Trabalhando com Arquivos</a>"
   ]
  },
  {
   "cell_type": "markdown",
   "metadata": {},
   "source": [
    "Até agora, os dados que temos usado nos programas deste livro ou estão inseridos diretamente no código ou são digitados pelo usuário a medida que são lidos. Na vida real dados estão em um arquivo. Por exemplo as imagens na unidade de processamento de imagens residem em arquivos que estão no disco rígido (hard drive) do seu computador. Página na Internet, documentos, músicas são outros exemplos de dados que vivem em arquivos. Neste capítulo apresentaremos de maneira sucinta os conceitos de Python necessários para usar em programas dados que estão em arquivos.\n",
    "\n",
    "Para os nossos propósitos, suporemos que os nosso arquivos de dados contém texto–isto é, arquivos de caracteres. Os programas em Python que você escreve são armazenados em arquivos de texto. Podemos criar esses arquivos de diversas maneiras. Por exemplo, podemos usar um editor de textos para digitar e salvar os dados. Podemos também baixar (download) os dados de uma página na Internet (website) e salvá-los em um arquivo. Não importa como os arquivos são criados, Python nos permitirá manipular o seu conteúdo.\n",
    "\n",
    "Em Python, devemos abrir (open) arquivos antes de usá-los e fechar (close) os arquivos depois de que tivermos terminado de utilizá-los. Como você pode imaginar, depois de aberto um arquivo passa a ser um objeto Python de maneira semelhante que outros dados. Table 1 mostra os métodos que podem ser usados para abrir e fechar arquivos.\n",
    "\n",
    "<table style=\"width:40%\">\n",
    "<tr>\n",
    "<th>Nome de Método</th>\n",
    "<th>Uso</th>\n",
    "<th>Explicação</th>\n",
    "</tr>\n",
    "<tr>\n",
    "<td>open</td>\n",
    "<td>open(nome_arquivo,'r')</td>\n",
    "<td>Abre um arquivo chamado nome_arquivo e o usa para leitura. Retorna uma referëncia para um objeto file.</td>\n",
    "</tr>\n",
    "<tr>\n",
    "<td>open</td>\n",
    "<td>open(nome_arquivo,'w')</td>\n",
    "<td>Abre um arquivo chamado nome_arquivo e o usa para escrita. Retorna uma referëncia para um objeto file.</td>\n",
    "</tr>\n",
    "<tr>\n",
    "<td>close</td>\n",
    "<td>ref_arquivo.close()</td>\n",
    "<td>Utilização do arquivo referenciado pela variável ref_arquivo terminou.</td>\n",
    "</tr>\n",
    "<tr>\n",
    "</tr>\n",
    "</table>"
   ]
  },
  {
   "cell_type": "markdown",
   "metadata": {},
   "source": []
  },
  {
   "cell_type": "markdown",
   "metadata": {},
   "source": [
    "## <a href=\"https://panda.ime.usp.br/pensepy/static/pensepy/10-Arquivos/files.html#encontrando-um-arquivo-disco\">Encontrando um arquivo no disco</a>"
   ]
  },
  {
   "cell_type": "markdown",
   "metadata": {},
   "source": [
    "Abrir um arquivo requer que você, como programador, e o Python entre em acordo sobre onde está o arquivo no seu disco. A maneira que os arquivos são localizados no disco e através do seu caminho (path). Você pode pensar em nome_arquivo como o primeiro nome do arquivo e o caminho como o nome completo. Por exemplo em um Mac se o usuário hofstadter salvar o arquivo penny.txt no seu diretório (home directory) o caminho é */Users/hofstadter/penny.txt*. No Linux caminho poderia ser */home/hofstadter/penny.txt* . No computadores com o sistema operacional Windows o caminho parece um pouco diferente, mas os princípios são os mesmos. Por exemplo no Windows o caminho poderia ser *C:\\Users\\hofstadter\\My Documents\\penny.txt*.\n",
    "\n",
    "Você também pode acessar arquivos em pastas (folders), também chamados de diretórios (directories), no seu diretório adicionando um barra e o nome da pasta. Por exemplo, suponha que em um Mac o usuário hofstadter` armazena arquivos para usar com o editor PyCharm na pasta MAC2166, que por sua vez está dentro da pasta ProjetosPyCharm. O nome completo de um arquivo ```penny.py``` armazenado na pasta MAC2166 seria */Users/hofstadter/ProjetosPyCharm/MAC2166/penny.py*\n",
    "\n",
    "Aqui está uma regra importante para ser lembrada: se o seu arquivo de dados e o seu programa Python estão no mesmo diretório você pode usar simplesmente o nome do arquivo. open('penny.txt','r') . Se o seu arquivo de dados e o seu programa Python estão em diretórios diferentes então você deve usar o caminho até o arquivo open('/Users/hofstadter/penny.txt','r')."
   ]
  },
  {
   "cell_type": "markdown",
   "metadata": {},
   "source": [
    "## <a href=\"https://panda.ime.usp.br/pensepy/static/pensepy/10-Arquivos/files.html#abrindo-e-fechando-arquivos\">Abrindo e fechando arquivos</a>"
   ]
  },
  {
   "cell_type": "markdown",
   "metadata": {},
   "source": [
    "Como exemplo, suponha que temos um texto chamado ``qbdata.txt`` que contem os dados a seguir representando estatísticas sobre o quarterbacks da NFL. Apesar de ser possível digitarmos esses dados cada vez que tivéssemos que usá-los, podemos imaginar que além de tomar bastante tempo fazer isso também seria uma fonte de erros. Além disso, é provável que houvesse dados de outros quarterbacks e outros anos. O formato de arquivo de dados é o seguinte:"
   ]
  },
  {
   "cell_type": "markdown",
   "metadata": {},
   "source": [
    "``First Name, Last Name, Position, Team, Completions, Attempts, Yards, TDs Ints, Comp%, Rating``"
   ]
  },
  {
   "cell_type": "markdown",
   "metadata": {},
   "source": [
    "`````\n",
    "Colt McCoy QB, CLE  135 222 1576    6   9   60.8%   74.5\n",
    "Josh Freeman QB, TB 291 474 3451    25  6   61.4%   95.9\n",
    "Michael Vick QB, PHI    233 372 3018    21  6   62.6%   100.2\n",
    "Matt Schaub QB, HOU 365 574 4370    24  12  63.6%   92.0\n",
    "Philip Rivers QB, SD    357 541 4710    30  13  66.0%   101.8\n",
    "Matt Hasselbeck QB, SEA 266 444 3001    12  17  59.9%   73.2\n",
    "Jimmy Clausen QB, CAR   157 299 1558    3   9   52.5%   58.4\n",
    "Joe Flacco QB, BAL  306 489 3622    25  10  62.6%   93.6\n",
    "Kyle Orton QB, DEN  293 498 3653    20  9   58.8%   87.5\n",
    "Jason Campbell QB, OAK  194 329 2387    13  8   59.0%   84.5\n",
    "Peyton Manning QB, IND  450 679 4700    33  17  66.3%   91.9\n",
    "Drew Brees QB, NO   448 658 4620    33  22  68.1%   90.9\n",
    "Matt Ryan QB, ATL   357 571 3705    28  9   62.5%   91.0\n",
    "Matt Cassel QB, KC  262 450 3116    27  7   58.2%   93.0\n",
    "Mark Sanchez QB, NYJ    278 507 3291    17  13  54.8%   75.3\n",
    "Brett Favre QB, MIN 217 358 2509    11  19  60.6%   69.9\n",
    "David Garrard QB, JAC   236 366 2734    23  15  64.5%   90.8\n",
    "Eli Manning QB, NYG 339 539 4002    31  25  62.9%   85.3\n",
    "Carson Palmer QB, CIN   362 586 3970    26  20  61.8%   82.4\n",
    "Alex Smith QB, SF   204 342 2370    14  10  59.6%   82.1\n",
    "Chad Henne QB, MIA  301 490 3301    15  19  61.4%   75.4\n",
    "Tony Romo QB, DAL   148 213 1605    11  7   69.5%   94.9\n",
    "Jay Cutler QB, CHI  261 432 3274    23  16  60.4%   86.3\n",
    "Jon Kitna QB, DAL   209 318 2365    16  12  65.7%   88.9\n",
    "Tom Brady QB, NE    324 492 3900    36  4   65.9%   111.0\n",
    "Ben Roethlisberger QB, PIT  240 389 3200    17  5   61.7%   97.0\n",
    "Kerry Collins QB, TEN   160 278 1823    14  8   57.6%   82.2\n",
    "Derek Anderson QB, ARI  169 327 2065    7   10  51.7%   65.9\n",
    "Ryan Fitzpatrick QB, BUF    255 441 3000    23  15  57.8%   81.8\n",
    "Donovan McNabb QB, WAS  275 472 3377    14  15  58.3%   77.1\n",
    "Kevin Kolb QB, PHI  115 189 1197    7   7   60.8%   76.1\n",
    "Aaron Rodgers QB, GB    312 475 3922    28  11  65.7%   101.2\n",
    "Sam Bradford QB, STL    354 590 3512    18  15  60.0%   76.5\n",
    "Shaun Hill QB, DET  257 416 2686    16  12  61.8%   81.3\n",
    "\n",
    "\n",
    "`````\n"
   ]
  },
  {
   "cell_type": "markdown",
   "metadata": {},
   "source": [
    "Para abrir esse arquivo temos que usar a função ``open``. A variável ``ref_arquivo`` mantém uma referência ao objeto do tipo ``file`` retornado por ``open``. Quando terminamos de usar o dados do arquivo, podemos fechá-lo usando o método ``close``. Depois que o arquivo estiver fechado, qualquer tentativa de usar ``ref_arquivo`` resultará em erro."
   ]
  },
  {
   "cell_type": "markdown",
   "metadata": {},
   "source": [
    "``````\n",
    ">>> ref_arquivo = open(\"qbdata.txt\",\"r\")\n",
    ">>>\n",
    ">>> ref_arquivo.close()\n",
    ">>>\n",
    "\n",
    "``````"
   ]
  },
  {
   "cell_type": "markdown",
   "metadata": {},
   "source": [
    "## <a href=\"https://panda.ime.usp.br/pensepy/static/pensepy/10-Arquivos/files.html#iterando-sobre-as-linha-de-um-arquivo\">Iterando sobre as linhas de um arquivo</a>"
   ]
  },
  {
   "cell_type": "markdown",
   "metadata": {},
   "source": [
    "Agora usaremos o arquivo ``qbdata.txt`` como entrada de um programa que faz um pouco de processamento de dados. No programa nós iremos ler (read) cada linha do arquivo e imprimi-la com algum texto adicional. Como arquivos de texto são uma sequência de linhas com texto, nós usaremos um laço ``for`` para iterar sobre cada linha do arquivo.\n",
    "\n",
    "Uma linha (line) de um arquivo é definida como uma sequência de caracteres até, e incluindo, um caractere especial chamado de nova linha (newline). Se você examinar um string que contém um caractere de nova linha você verá ele representado como ``\\n``. Só você imprime um string contendo um caractere de nova linha você não verá o ``\\n``, você verá apenas o seu efeito, ou seja, uma mudança de linha. **Quando estamos digitando um programa em Python e pressionamos a tecla ``enter`` ou ``return``, o editor insere um caractere de nova linha no texto naquele ponto.**\n",
    "\n",
    "A medida com o laço for itera sobre cada linha do arquivo a variável de controle do laço conterá uma referência para um string com o conteúdo da linha corrente do arquivo. O padrão geral para processar cada linha de um arquivo texto é o seguinte:"
   ]
  },
  {
   "cell_type": "markdown",
   "metadata": {},
   "source": [
    "````\n",
    "for linha in ref_arquivo:\n",
    "    comando1\n",
    "    comando2\n",
    "    ...\n",
    "\n",
    "````"
   ]
  },
  {
   "cell_type": "markdown",
   "metadata": {},
   "source": [
    "Para processar todos os dados sobre os quarterbacks, usamos o laço for para iterar sobre as linhas do arquivo. Usando o método split podemos quebrar cada linha em uma lista contendo todos os campos de interesse sobre o quarterback. Podemos pegar os valores correspondente ao *first name, last name e examinar as avaliações para construir uma sentença simples como mostrada em <a href=\"https://panda.ime.usp.br/pensepy/static/pensepy/10-Arquivos/files.html#readingfile1\">Listing 1<a/>."
   ]
  },
  {
   "cell_type": "code",
   "execution_count": null,
   "metadata": {},
   "outputs": [],
   "source": [
    "ref_arquivo = open(\"qbdata.txt\",\"r\")\n",
    "\n",
    "for linha in ref_arquivo:\n",
    "    valores = linha.split()\n",
    "    print('QB ', valores[0], valores[1], 'obteve a avaliacao ', valores[10] )\n",
    "\n",
    "ref_arquivo.close()"
   ]
  },
  {
   "cell_type": "markdown",
   "metadata": {},
   "source": [
    "## <a href=\"https://panda.ime.usp.br/pensepy/static/pensepy/10-Arquivos/files.html#metodos-alternativos-para-ler-arquivos\">Métodos alternativos para ler arquivos<a/>\n"
   ]
  },
  {
   "cell_type": "markdown",
   "metadata": {},
   "source": [
    "Além do laço ``for``, Python fornece **três métodos** para lermos dados de um arquivo. O método ``readline`` lê uma linha de um arquivo e retorna essa linha como um string. O string retornado por readline conterá o caractere de nova linha ('\\n') no final. Este método retorna o string vazio (\"\") quando chegamos ao final do arquivo. O método readlines retorna todo o conteúdo do arquivo em uma lista de strings, cada item da lista representa uma linha do arquivo. Também é possível ler todo o conteúdo de um arquivo em um único string como o método ``read``. Table 2 resume esses métodos e Session 2 mostra eles em ação.\n",
    "\n",
    "<table style=\"width:50%\">\n",
    "<tr>\n",
    "<th>Método</th>\n",
    "<th>Uso</th>\n",
    "<th>Efeito</th>\n",
    "</tr>\n",
    "<tr>\n",
    "<td>write</td>\n",
    "<td>ref_arquivo.write(s)</td>\n",
    "<td>Adiciona o string s no final do arquivo. ref_arquivo deve ser uma referência a um arquivo que foi aberto para escrita (\"w\").</td>\n",
    "</tr>\n",
    "<tr>\n",
    "<td>read(n)</td>\n",
    "<td>ref_arquivo.read()</td>\n",
    "<td>Lê e retorna um string de ``n`` caracteres ou o arquivo inteiro como um string se ``n`` não é fornecido.</td>\n",
    "</tr>\n",
    "<tr>\n",
    "<td>readline(n)</td>\n",
    "<td>ref_arquivo.readline()</td>\n",
    "<td>Retorna a próxima linha do arquivo com todo o texto e incluindo o caractere de nova linha. Se ``n`` é fornecido como argumento então somente ``n`` caracteres são retornados se a linha tem mais do que n caracteres.</td>\n",
    "</tr>\n",
    "<tr>\n",
    "<td>readlines(n)</td>\n",
    "<td>ref_arquivo.readlines()</td>\n",
    "<td>Retorna uma lista de strings, cada um representado o conteúdo de uma linha do arquivo. Se ``n`` não é fornecido, todas as linhas do arquivo são retornadas. Se ``n`` é fornecido como argumento então ``n`` caracteres serão lidos mas ``n`` é arrendondado para cima de tal forma que uma linha inteira seja retornada.</td>\n",
    "</tr>\n",
    "</table>\n",
    "\n",
    "Note que necessitamos reabrir um arquivo antes de lê-lo a partir da primeira linha. Cada arquivo de uma marca que indica a posição corrente do arquivo que está prestes a ser lida. Cada vez que um desses métodos ;e chamado a marca se move para o caractere que vem em seguida do último caractere retornado. No caso de readline o marcado se move para o primeiro caractere da próxima linha. Nos caso de read ou readlines a marca se move para o final do arquivo."
   ]
  },
  {
   "cell_type": "markdown",
   "metadata": {},
   "source": [
    "\n",
    "````\n",
    ">>> ref_arquivo = open(\"qbdata.txt\",\"r\")\n",
    ">>> linha = ref_arquivo.readline()\n",
    ">>> linha\n",
    "'Colt McCoy QB, CLE\\t135\\t222\\t1576\\t6\\t9\\t60.8%\\t74.5\\n'\n",
    ">>>\n",
    ">>> ref_arquivo = open(\"qbdata.txt\",\"r\")\n",
    ">>> lista_de_linhas = ref_arquivo.readlines()\n",
    ">>> print(len(lista_de_linhas))\n",
    "34\n",
    ">>> print(lista_de_linhas[0:4])\n",
    "['Colt McCoy QB, CLE\\t135\\t222\\t1576\\t6\\t9\\t60.8%\\t74.5\\n',\n",
    " 'Josh Freeman QB, TB\\t291\\t474\\t3451\\t25\\t6\\t61.4%\\t95.9\\n',\n",
    " 'Michael Vick QB, PHI\\t233\\t372\\t3018\\t21\\t6\\t62.6%\\t100.2\\n',\n",
    " 'Matt Schaub QB, HOU\\t365\\t574\\t4370\\t24\\t12\\t63.6%\\t92.0\\n']\n",
    ">>>\n",
    ">>> ref_arquivo = open(\"qbdata.txt\",\"r\")\n",
    ">>> string_arquivo = ref_arquivo.read()\n",
    ">>> print(len(string_arquivo))\n",
    "1708\n",
    ">>> print(string_arquivo[:256])\n",
    "Colt McCoy QB, CLE  135     222     1576    6       9       60.8%   74.5\n",
    "Josh Freeman QB, TB 291     474     3451    25      6       61.4%   95.9\n",
    "Michael Vick QB, PHI        233     372     3018    21      6       62.6%   100.2\n",
    "Matt Schaub QB, HOU 365     574     4370    24      12      63.6%   92.0\n",
    "Philip Rivers QB, SD        357     541     4710    30      13      66.0%   101.8\n",
    "Matt Ha\n",
    ">>>\n",
    "\n",
    "````"
   ]
  },
  {
   "cell_type": "markdown",
   "metadata": {},
   "source": [
    "Agora olhemos outra maneira de lermos nosso arquivo usando um laço ``while``. Isto é importante pois muitas outras linguagens de programação não tem algo semelhante ao estilo do laço for para ler arquivos, mas elas admitem algo semelhante ao padrão que mostraremos aqui."
   ]
  },
  {
   "cell_type": "code",
   "execution_count": null,
   "metadata": {},
   "outputs": [],
   "source": [
    "ref_arquivo = open(\"qbdata.txt\",\"r\")\n",
    "linha = ref_arquivo.readline()\n",
    "while linha:\n",
    "    valores = linha.split()\n",
    "    print('QB ', valores[0], valores[1], 'obteve a avaliacao ', valores[10] )\n",
    "    linha = ref_arquivo.readline()\n",
    "\n",
    "ref_arquivo.close()"
   ]
  },
  {
   "cell_type": "markdown",
   "metadata": {},
   "source": [
    "Algo importante a ser notado é que na linha 2 temos o comando linha = ref_arquivo.readline(). Isto é muito importante pois a condição do ``while`` necessita que o valor da variável linha. Chamamos essa leitura inicial de **priming read**."
   ]
  },
  {
   "cell_type": "markdown",
   "metadata": {},
   "source": [
    "## <a href=\"https://panda.ime.usp.br/pensepy/static/pensepy/10-Arquivos/files.html#glossario\">Glossário<a/>"
   ]
  },
  {
   "cell_type": "markdown",
   "metadata": {},
   "source": [
    "#### open\n",
    "Devemos abrir (open) um arquivo antes de ler o seu conteúdo: ````ref_arquivo = open(nome_arquivo,\"r\")````. Devemos também abrir um arquivo antes de escrever nele: ```ref_arquivo = open(nome_arquivo,\"w\")```.\n",
    "\n",
    "#### close\n",
    "devemos fechar (close) um arquivo depois que acabamos de manipulá-lo: ``ref_arquivo.close()``.\n",
    "\n",
    "#### read\n",
    "Método que lê e retorna o conteúdo inteiro de um arquivo em um string. É frequentemented usado em um comando de atribuição de tal forma que a variável seja uma referência para um string com o conteúdo do arquivo: ``string_arquivo = ref_arquivo.read()``\n",
    "\n",
    "#### readline\n",
    "Método que lê e retorna o conteúdo da linha corrente de um arquivo como string: ``linha_str = ref_arquivo.readline()``. O caractere de nova linha e incluído no final do string.\n",
    "\n",
    "#### readlines\n",
    "Método que lê e retorna o conteúdo de um arquivo como uma lista de strings. Cada linha do arquivo é representado por um string da lista: ``lista_de_linhas = ref_arquivo.readlines()``."
   ]
  },
  {
   "cell_type": "markdown",
   "metadata": {},
   "source": [
    "## <a href=\"https://panda.ime.usp.br/pensepy/static/pensepy/10-Arquivos/files.html#exercicios\">Exercícios<a/>"
   ]
  },
  {
   "cell_type": "markdown",
   "metadata": {},
   "source": []
  }
 ],
 "metadata": {
  "interpreter": {
   "hash": "9c46e8c7d271d72a6515f953d7789b76532a6cc9effab24c2a9e9967856ba292"
  },
  "kernelspec": {
   "display_name": "Python 3.9.10 64-bit",
   "language": "python",
   "name": "python3"
  },
  "language_info": {
   "codemirror_mode": {
    "name": "ipython",
    "version": 3
   },
   "file_extension": ".py",
   "mimetype": "text/x-python",
   "name": "python",
   "nbconvert_exporter": "python",
   "pygments_lexer": "ipython3",
   "version": "3.9.10"
  },
  "orig_nbformat": 4
 },
 "nbformat": 4,
 "nbformat_minor": 2
}
