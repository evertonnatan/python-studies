{
 "cells": [
  {
   "cell_type": "markdown",
   "metadata": {},
   "source": [
    "# Decisões e Seleção\n",
    "## Valores booleanos e expressões booleanas\n",
    "\n",
    "O tipo em Python para armazenar os valores verdadeiro e falso é chamado de *bool*, em homenagem ao matemático britânico George Boole. George Boole criou a Álgebra Booleana, que é a base de toda a aritmética computacional moderna.\n",
    "\n",
    "Existem apenas dois valores booleanos. Eles são True e False. As iniciais maiúsculas são importantes, uma vez que true e false não são valores booleanos (lembre-se de que maiúsculas e minúsculas fazem diferença para o Python)."
   ]
  },
  {
   "cell_type": "code",
   "execution_count": null,
   "metadata": {},
   "outputs": [],
   "source": [
    "print(True)\n",
    "print(type(True))\n",
    "print(type(False))"
   ]
  },
  {
   "cell_type": "markdown",
   "metadata": {},
   "source": [
    "#### Nota:\n",
    "\n",
    "Valores booleanos não são strings!\n",
    "\n",
    "É extremamente importante perceber que True e False não são strings. Eles não estão entre aspas. Eles são somente dois valores do tipo de dados bool. Olhe atentamente os tipos mostrados abaixo."
   ]
  },
  {
   "cell_type": "code",
   "execution_count": null,
   "metadata": {},
   "outputs": [],
   "source": [
    "print(type(True))\n",
    "print(type(\"True\"))"
   ]
  },
  {
   "cell_type": "markdown",
   "metadata": {},
   "source": [
    "Uma expressão booleana é uma expressão que resulta em um valor booleano. O operador de igualdade, ==, compara dois valores e produz um valor booleano correspondente aos dois valores serem ou não iguais entre si."
   ]
  },
  {
   "cell_type": "code",
   "execution_count": null,
   "metadata": {},
   "outputs": [],
   "source": [
    "print(5 == 5)\n",
    "print(5 == 6)"
   ]
  },
  {
   "cell_type": "markdown",
   "metadata": {},
   "source": [
    "No primeiro comando, os dois operandos são iguais, de forma que a expressão tem valor True. No segundo comando, 5 não é igual a 6, de forma que obtemos False.\n",
    "\n",
    "O operador == é um dos seis operadores de comparação comuns; os outros são:"
   ]
  },
  {
   "cell_type": "markdown",
   "metadata": {},
   "source": [
    "x != y               # x não é igual a y\n",
    "x > y                # x é maior do que y\n",
    "x < y                # x é menor do que y\n",
    "x >= y               # x é maior ou igual a y\n",
    "x <= y               # x é menor ou igual a y"
   ]
  },
  {
   "cell_type": "markdown",
   "metadata": {},
   "source": [
    "Embora essas operações sejam provavelmente familiares a você, os símbolos em Python são diferentes dos símbolos matemáticos. Um erro comum é usar somente um símbolo de igual (=) em vez de dois sinais iguais (==). Lembre-se de que = é um operador de atribuição e o == é um operador de comparação. Também, os operadores =< ou => não existem.\n",
    "\n",
    "Note também que um teste de igualdade é simétrico, mas atribuição não é. Por exemplo, se a == 7 então 7 == a. Mas, em Python, a expressão a = 7 é válida e 7 = a não é. (Você pode explicar por que?)"
   ]
  },
  {
   "cell_type": "code",
   "execution_count": null,
   "metadata": {},
   "outputs": [],
   "source": [
    "'''\n",
    "Condições IF, ELIF e ELSE \n",
    "\n",
    "A sintaxe de um comando if se parece com:\n",
    "\n",
    "    if EXPRESSÃO BOOLEANA:\n",
    "        COMANDOS_1        # executados se condição tem valor True\n",
    "    else:\n",
    "        COMANDOS_2        # executados se condição tem valor False\n",
    "\n",
    "Não há limite no número de comandos que podem aparecer nos dois blocos de um comando if, mas tem que haver pelo menos um comando em cada bloco. Cada bloco de else precisa ter exatamente um bloco de if correspondente. Se você quer encadear comandos if-else juntos, você precisa usar a construção de blocos aninhados. \n",
    "'''\n",
    "\n",
    "if False:\n",
    "    print(\"Verdadeiro.\")\n",
    "elif False:\n",
    "    print(\"Agora é verdadeiro\")\n",
    "elif True:\n",
    "    print(\"Mais uma verdadeira\")\n",
    "else:\n",
    "    print(\"Não é verdadeiro\")\n",
    "\n",
    "# Condicionais aninhados: https://panda.ime.usp.br/pensepy/static/pensepy/06-Selecao/selecao.html#condicionais-aninhados\n",
    "# Condicionais encadeados (elif): https://panda.ime.usp.br/pensepy/static/pensepy/06-Selecao/selecao.html#condicionais-encadeados\n"
   ]
  },
  {
   "cell_type": "markdown",
   "metadata": {},
   "source": [
    "## Operadores lógicos\n",
    "Existem três operadores lógicos: *and*, *or* e *not*. A semântica (significado) desses operadores é similar ao significado deles em português. Por exemplo, x > 0 and x < 10 é verdadeiro somente se x é maior do que 0 e ao mesmo tempo, x é menor do que 10. Como você descreveria isso em palavras? Você diria que x está entre 0 e 10, não incluindo as extremidades.\n",
    "\n",
    "**n % 2 == 0 or n % 3 == 0**  é verdadeiro se uma das condições é verdadeira, isto é, se o número é divisível por 2 ou divisível por 3. Neste caso, uma, ou a outra, ou ambos as partes tem que ser verdadeira para o resultado ser verdadeiro.\n",
    "\n",
    "Finalmente, o operador *not* nega uma expressão booleana, de forma que not  x > y é verdadeiro se x > y é falso, isto é, se x é menor ou igual a y."
   ]
  },
  {
   "cell_type": "code",
   "execution_count": null,
   "metadata": {},
   "outputs": [],
   "source": [
    "x = 5\n",
    "print(x>0 and x<10)\n",
    "\n",
    "n = 25\n",
    "print(n%2 == 0 or n%3 == 0)\n",
    "print(not 2 == 0 or not 3 == 0)\n",
    "print(not 2 == 0 or not 3 == 0)"
   ]
  },
  {
   "cell_type": "code",
   "execution_count": 5,
   "metadata": {},
   "outputs": [
    {
     "name": "stdout",
     "output_type": "stream",
     "text": [
      "Usuário ou senha inválidos, tente novamente!\n"
     ]
    }
   ],
   "source": [
    "'''\n",
    "Operadores Lógicos \n",
    "and, or, not\n",
    "in e not in\n",
    "'''\n",
    "\n",
    "# Exemplo da aula\n",
    "\n",
    "usuario = input(\"Nome de usuário: \")\n",
    "senha = input(\"Senha do Usuário: \")\n",
    "\n",
    "usuario_bd = 'everton'\n",
    "senha_bd = '123456'\n",
    "\n",
    "if usuario_bd == usuario and senha_bd == senha:\n",
    "    print(\"Usuário logado no sistema\")\n",
    "else:\n",
    "    print(\"Usuário ou senha inválidos, tente novamente!\")"
   ]
  },
  {
   "cell_type": "code",
   "execution_count": null,
   "metadata": {},
   "outputs": [],
   "source": []
  }
 ],
 "metadata": {
  "interpreter": {
   "hash": "b84bade0d67267c26af221a72f156c0e2ce5b84c8e3bd3bfae8e7c13b6cca163"
  },
  "kernelspec": {
   "display_name": "Python 3.9.10 64-bit",
   "language": "python",
   "name": "python3"
  },
  "language_info": {
   "codemirror_mode": {
    "name": "ipython",
    "version": 3
   },
   "file_extension": ".py",
   "mimetype": "text/x-python",
   "name": "python",
   "nbconvert_exporter": "python",
   "pygments_lexer": "ipython3",
   "version": "3.9.10"
  },
  "orig_nbformat": 4
 },
 "nbformat": 4,
 "nbformat_minor": 2
}
