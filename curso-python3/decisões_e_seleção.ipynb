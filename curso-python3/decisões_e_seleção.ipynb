{
 "cells": [
  {
   "cell_type": "markdown",
   "metadata": {},
   "source": [
    "# Decisões e Seleção\n",
    "## Valores booleanos e expressões booleanas\n",
    "\n",
    "O tipo em Python para armazenar os valores verdadeiro e falso é chamado de *bool*, em homenagem ao matemático britânico George Boole. George Boole criou a Álgebra Booleana, que é a base de toda a aritmética computacional moderna.\n",
    "\n",
    "Existem apenas dois valores booleanos. Eles são True e False. As iniciais maiúsculas são importantes, uma vez que true e false não são valores booleanos (lembre-se de que maiúsculas e minúsculas fazem diferença para o Python)."
   ]
  },
  {
   "cell_type": "code",
   "execution_count": null,
   "metadata": {},
   "outputs": [],
   "source": [
    "print(True)\n",
    "print(type(True))\n",
    "print(type(False))"
   ]
  },
  {
   "cell_type": "markdown",
   "metadata": {},
   "source": [
    "## Note\n",
    "\n",
    "Valores booleanos não são strings!\n",
    "\n",
    "É extremamente importante perceber que True e False não são strings. Eles não estão entre aspas. Eles são somente dois valores do tipo de dados bool. Olhe atentamente os tipos mostrados abaixo."
   ]
  },
  {
   "cell_type": "code",
   "execution_count": null,
   "metadata": {},
   "outputs": [],
   "source": [
    "print(type(True))\n",
    "print(type(\"True\"))"
   ]
  },
  {
   "cell_type": "markdown",
   "metadata": {},
   "source": [
    "Uma expressão booleana é uma expressão que resulta em um valor booleano. O operador de igualdade, ==, compara dois valores e produz um valor booleano correspondente aos dois valores serem ou não iguais entre si."
   ]
  },
  {
   "cell_type": "code",
   "execution_count": null,
   "metadata": {},
   "outputs": [],
   "source": [
    "print(5 == 5)\n",
    "print(5 == 6)"
   ]
  },
  {
   "cell_type": "code",
   "execution_count": null,
   "metadata": {},
   "outputs": [],
   "source": []
  },
  {
   "cell_type": "code",
   "execution_count": null,
   "metadata": {},
   "outputs": [],
   "source": [
    "'''\n",
    "Condições IF, ELIF e ELSE \n",
    "\n",
    "A sintaxe de um comando if se parece com:\n",
    "\n",
    "    if EXPRESSÃO BOOLEANA:\n",
    "        COMANDOS_1        # executados se condição tem valor True\n",
    "    else:\n",
    "        COMANDOS_2        # executados se condição tem valor False\n",
    "\n",
    "Não há limite no número de comandos que podem aparecer nos dois blocos de um comando if, mas tem que haver pelo menos um comando em cada bloco. Cada bloco de else precisa ter exatamente um bloco de if correspondente. Se você quer encadear comandos if-else juntos, você precisa usar a construção de blocos aninhados. \n",
    "'''\n",
    "\n",
    "if False:\n",
    "    print(\"Verdadeiro.\")\n",
    "elif False:\n",
    "    print(\"Agora é verdadeiro\")\n",
    "elif True:\n",
    "    print(\"Mais uma verdadeira\")\n",
    "else:\n",
    "    print(\"Não é verdadeiro\")\n",
    "\n",
    "# Condicionais aninhados: https://panda.ime.usp.br/pensepy/static/pensepy/06-Selecao/selecao.html#condicionais-aninhados\n",
    "# Condicionais encadeados (elif): https://panda.ime.usp.br/pensepy/static/pensepy/06-Selecao/selecao.html#condicionais-encadeados\n"
   ]
  }
 ],
 "metadata": {
  "interpreter": {
   "hash": "b84bade0d67267c26af221a72f156c0e2ce5b84c8e3bd3bfae8e7c13b6cca163"
  },
  "kernelspec": {
   "display_name": "Python 3.9.10 64-bit",
   "language": "python",
   "name": "python3"
  },
  "language_info": {
   "codemirror_mode": {
    "name": "ipython",
    "version": 3
   },
   "file_extension": ".py",
   "mimetype": "text/x-python",
   "name": "python",
   "nbconvert_exporter": "python",
   "pygments_lexer": "ipython3",
   "version": "3.9.10"
  },
  "orig_nbformat": 4
 },
 "nbformat": 4,
 "nbformat_minor": 2
}
