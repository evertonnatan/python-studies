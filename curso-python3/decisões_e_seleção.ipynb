{
 "cells": [
  {
   "cell_type": "markdown",
   "metadata": {},
   "source": [
    "# Decisões e Seleção\n",
    "## Valores booleanos e expressões booleanas\n",
    "\n",
    "O tipo em Python para armazenar os valores verdadeiro e falso é chamado de *bool*, em homenagem ao matemático britânico George Boole. George Boole criou a Álgebra Booleana, que é a base de toda a aritmética computacional moderna.\n",
    "\n",
    "Existem apenas dois valores booleanos. Eles são True e False. As iniciais maiúsculas são importantes, uma vez que true e false não são valores booleanos (lembre-se de que maiúsculas e minúsculas fazem diferença para o Python)."
   ]
  },
  {
   "cell_type": "code",
   "execution_count": null,
   "metadata": {},
   "outputs": [],
   "source": [
    "print(True)\n",
    "print(type(True))\n",
    "print(type(False))"
   ]
  },
  {
   "cell_type": "markdown",
   "metadata": {},
   "source": [
    "#### Nota:\n",
    "\n",
    "Valores booleanos não são strings!\n",
    "\n",
    "É extremamente importante perceber que True e False não são strings. Eles não estão entre aspas. Eles são somente dois valores do tipo de dados bool. Olhe atentamente os tipos mostrados abaixo."
   ]
  },
  {
   "cell_type": "code",
   "execution_count": null,
   "metadata": {},
   "outputs": [],
   "source": [
    "print(type(True))\n",
    "print(type(\"True\"))"
   ]
  },
  {
   "cell_type": "markdown",
   "metadata": {},
   "source": [
    "Uma expressão booleana é uma expressão que resulta em um valor booleano. O operador de igualdade, ==, compara dois valores e produz um valor booleano correspondente aos dois valores serem ou não iguais entre si."
   ]
  },
  {
   "cell_type": "code",
   "execution_count": null,
   "metadata": {},
   "outputs": [],
   "source": [
    "print(5 == 5)\n",
    "print(5 == 6)"
   ]
  },
  {
   "cell_type": "markdown",
   "metadata": {},
   "source": [
    "No primeiro comando, os dois operandos são iguais, de forma que a expressão tem valor True. No segundo comando, 5 não é igual a 6, de forma que obtemos False.\n",
    "\n",
    "O operador == é um dos seis operadores de comparação comuns; os outros são:"
   ]
  },
  {
   "cell_type": "markdown",
   "metadata": {},
   "source": [
    "x != y               # x não é igual a y\n",
    "x > y                # x é maior do que y\n",
    "x < y                # x é menor do que y\n",
    "x >= y               # x é maior ou igual a y\n",
    "x <= y               # x é menor ou igual a y"
   ]
  },
  {
   "cell_type": "markdown",
   "metadata": {},
   "source": [
    "Embora essas operações sejam provavelmente familiares a você, os símbolos em Python são diferentes dos símbolos matemáticos. Um erro comum é usar somente um símbolo de igual (=) em vez de dois sinais iguais (==). Lembre-se de que = é um operador de atribuição e o == é um operador de comparação. Também, os operadores =< ou => não existem.\n",
    "\n",
    "Note também que um teste de igualdade é simétrico, mas atribuição não é. Por exemplo, se a == 7 então 7 == a. Mas, em Python, a expressão a = 7 é válida e 7 = a não é. (Você pode explicar por que?)"
   ]
  },
  {
   "cell_type": "code",
   "execution_count": null,
   "metadata": {},
   "outputs": [],
   "source": [
    "'''\n",
    "Condições IF, ELIF e ELSE \n",
    "\n",
    "A sintaxe de um comando if se parece com:\n",
    "\n",
    "    if EXPRESSÃO BOOLEANA:\n",
    "        COMANDOS_1        # executados se condição tem valor True\n",
    "    else:\n",
    "        COMANDOS_2        # executados se condição tem valor False\n",
    "\n",
    "Não há limite no número de comandos que podem aparecer nos dois blocos de um comando if, mas tem que haver pelo menos um comando em cada bloco. Cada bloco de else precisa ter exatamente um bloco de if correspondente. Se você quer encadear comandos if-else juntos, você precisa usar a construção de blocos aninhados. \n",
    "'''\n",
    "\n",
    "if False:\n",
    "    print(\"Verdadeiro.\")\n",
    "elif False:\n",
    "    print(\"Agora é verdadeiro\")\n",
    "elif True:\n",
    "    print(\"Mais uma verdadeira\")\n",
    "else:\n",
    "    print(\"Não é verdadeiro\")\n",
    "\n",
    "# Condicionais aninhados: https://panda.ime.usp.br/pensepy/static/pensepy/06-Selecao/selecao.html#condicionais-aninhados\n",
    "# Condicionais encadeados (elif): https://panda.ime.usp.br/pensepy/static/pensepy/06-Selecao/selecao.html#condicionais-encadeados\n"
   ]
  },
  {
   "cell_type": "markdown",
   "metadata": {},
   "source": [
    "Com a finalidade de escrever programas úteis, quase sempre temos a necessidade de verificar condições e alterar o comportamento do programa de acordo com os resultados das condições. Comandos de seleção, algumas vezes também denominados de comandos condicionais nos dá essa habilidade. A forma mais simples de seleção é o comando if. Ele é algumas vezes denominado de seleção binária uma vez que admite dois possíveis caminhos de execução."
   ]
  },
  {
   "cell_type": "code",
   "execution_count": null,
   "metadata": {},
   "outputs": [],
   "source": [
    "x = 15\n",
    "\n",
    "if x % 2 == 0:\n",
    "    print(x, \"e' par\")\n",
    "else:\n",
    "    print(x, \"e' impar\")"
   ]
  },
  {
   "cell_type": "markdown",
   "metadata": {},
   "source": [
    "**A sintaxe de um comando if se parece com:**\n",
    "\n",
    "```\n",
    "if EXPRESSÃO BOOLEANA:\n",
    "    COMANDOS_1        # executados se condição tem valor True\n",
    "```\n",
    "\n",
    "```\n",
    "else:\n",
    "    COMANDOS_2        # executados se condição tem valor False\n",
    "```\n",
    "A expressão booleana depois do *if* é chamada de condição. Se é verdadeira, então os comandos tabulados (COMANDOS_1) são executados. Se não, então os comandos tabulados depois do else são executados.\n",
    "\n",
    "<a href=\"https://panda.ime.usp.br/pensepy/static/pensepy/_images/fluxograma_if_else.png\">Fluxograma de um comando if com um else</a>\n",
    "\n",
    "\n",
    "Assim como a definição de função do último capítulo e outros comandos compostos como for, o comando if consiste de uma linha de cabeçalho e um corpo. A linha de cabeçalho começa com a palavra if seguida por uma expressão booleana e termina com dois pontos (:).\n",
    "\n",
    "Os comandos tabulados que seguem é chamado de bloco. O primeiro comando com tabulação diferente marca o fim do bloco.\n",
    "\n",
    "Cada comando dentro do primeiro bloco de comandos é executado em ordem se a expressão booleana tem valor True. Todo o primeiro bloco de comandos é pulado se a expressão booleana tem valor False e todos os comandos sob o else são executados.\n",
    "\n",
    "Não há limite no número de comandos que podem aparecer nos dois blocos de um comando if, mas tem que haver pelo menos um comando em cada bloco."
   ]
  },
  {
   "cell_type": "markdown",
   "metadata": {},
   "source": [
    "## <a href=\"https://panda.ime.usp.br/pensepy/static/pensepy/06-Selecao/selecao.html#selecao-unaria-omissao-do-else\" >Seleção unária: omissão do else</a>\n",
    "\n",
    "Outra forma do comando if é um no qual o else é totalmente omitido. Isso cria um mecanismo chamado seleção unária. Neste caso, quando a condição tem valor True, os comando são executados. Caso contrário, o fluxo de execução continua no comando depois do if.\n"
   ]
  },
  {
   "cell_type": "code",
   "execution_count": null,
   "metadata": {},
   "outputs": [],
   "source": [
    "x = 10\n",
    "if x < 0:\n",
    "    print(\"O numero negativo \",  x, \" nao e' valido aqui.\")\n",
    "print(\"Isto é sempre impresso.\")"
   ]
  },
  {
   "cell_type": "code",
   "execution_count": null,
   "metadata": {},
   "outputs": [],
   "source": [
    "#O seguinte código causará um erro?\n",
    "\n",
    "x = -10\n",
    "if x < 0:\n",
    "    print(\"O número negativo \",  x, \" não é válido aqui.\")\n",
    "else:\n",
    "    print(x, \" é um número positivo.\")\n",
    "else:\n",
    "    print(\"Isto é sempre impresso.\")\n",
    "\n",
    "# Sim, isto causará um erro porque o segundo bloco de else não está relacionado com nenhum bloco de if. Ou seja, para cada if, deverá haver um else.\n"
   ]
  },
  {
   "cell_type": "markdown",
   "metadata": {},
   "source": [
    "## <a href=\"https://panda.ime.usp.br/pensepy/static/pensepy/06-Selecao/selecao.html#condicionais-aninhados\">Condicionais aninhados</a>\n",
    "Um condicional pode também ser aninhado dentro de outro. Por exemplo, assuma que temos duas variáveis inteiras x e y. O seguinte padrão de seleção mostra como podemos decidir como eles são relacionados entre si.\n",
    "\n"
   ]
  },
  {
   "cell_type": "code",
   "execution_count": 21,
   "metadata": {},
   "outputs": [
    {
     "name": "stdout",
     "output_type": "stream",
     "text": [
      "x é menor do que y.\n"
     ]
    }
   ],
   "source": [
    "x = 2\n",
    "y = 3\n",
    "\n",
    "if x < y:\n",
    "    print(\"x é menor do que y.\")\n",
    "else:\n",
    "    if x > y:\n",
    "        print(\"x é maior do que y.\")\n",
    "    else:\n",
    "        print(\"x e y devem ser iguais.\")"
   ]
  },
  {
   "cell_type": "markdown",
   "metadata": {},
   "source": [
    "O condicional externo tem duas ramificações. A segunda ramificação (o else externo) contém outro comando if, o qual tem outras duas ramificações. Aquelas duas ramificações podem também conter comandos condicionais."
   ]
  },
  {
   "cell_type": "markdown",
   "metadata": {},
   "source": [
    "#### Nota:\n",
    "\n",
    "\n",
    "*Em algumas linguagens de programação, encontrar o if correspondente a um else pode ser um problema. Entretanto, em Python isto não é o caso. O padrão de tabulação nos diz exatamente qual else corresponde a qual if.*"
   ]
  },
  {
   "cell_type": "markdown",
   "metadata": {},
   "source": [
    "## <a href=\"https://panda.ime.usp.br/pensepy/static/pensepy/06-Selecao/selecao.html#condicionais-encadeados\">Condicionais encadeados </a>\n",
    "\n",
    "Python provê uma forma alternativa de escrever seleções aninhadas como as mostradas na seção anterior. Isto é chamado algumas vezes como condicionais encadeadas"
   ]
  },
  {
   "cell_type": "code",
   "execution_count": 22,
   "metadata": {},
   "outputs": [
    {
     "name": "stdout",
     "output_type": "stream",
     "text": [
      "x é menor do que y.\n"
     ]
    }
   ],
   "source": [
    "if x < y:\n",
    "    print(\"x é menor do que y.\")\n",
    "elif x > y:\n",
    "    print(\"x é maior do que y.\")\n",
    "else:\n",
    "    print(\"x e y devem ser iguais.\")"
   ]
  },
  {
   "cell_type": "markdown",
   "metadata": {},
   "source": [
    "``elif`` é uma abreviação de else if. Novamente, exatamente uma ramificação será executada. Não há limites no número de elif mas apenas um simples (e opcional) else final é permitido e precisa ser a última ramificação do comando.\n",
    "\n",
    "Cada condição é verificada em ordem. Se a primeira é falsa, a próxima é então verificada , e assim por dianta. Se uma delas é verdadeira, a ramificação correspondente é executada e o comando termina. Mesmo que mais do que uma condição seja verdadeira, apenas a ramificação da primeira verdadeira é executada.\n",
    "\n",
    "Aqui vai o mesmo programa usando elif."
   ]
  },
  {
   "cell_type": "code",
   "execution_count": 24,
   "metadata": {},
   "outputs": [
    {
     "name": "stdout",
     "output_type": "stream",
     "text": [
      "x e y devem ser iguais.\n"
     ]
    }
   ],
   "source": [
    "x = 10\n",
    "y = 10\n",
    "\n",
    "if x < y:\n",
    "    print(\"x é menor do que y.\")\n",
    "elif x > y:\n",
    "    print(\"x é maior do que y.\")\n",
    "else:\n",
    "    print(\"x e y devem ser iguais.\")"
   ]
  },
  {
   "cell_type": "code",
   "execution_count": 25,
   "metadata": {},
   "outputs": [
    {
     "name": "stdout",
     "output_type": "stream",
     "text": [
      "c\n"
     ]
    }
   ],
   "source": [
    "# O que o seguinte código imprimirá se x = 3, y = 5 e z = 2?\n",
    "\n",
    "if x < y and x < z:\n",
    "    print (\"a\")\n",
    "elif y < x and y < z:\n",
    "    print (\"b\")\n",
    "else:\n",
    "    print (\"c\")"
   ]
  },
  {
   "cell_type": "markdown",
   "metadata": {},
   "source": [
    "## Operadores lógicos\n",
    "Existem três operadores lógicos: *and*, *or* e *not*. A semântica (significado) desses operadores é similar ao significado deles em português. Por exemplo, x > 0 and x < 10 é verdadeiro somente se x é maior do que 0 e ao mesmo tempo, x é menor do que 10. Como você descreveria isso em palavras? Você diria que x está entre 0 e 10, não incluindo as extremidades.\n",
    "\n",
    "**n % 2 == 0 or n % 3 == 0**  é verdadeiro se uma das condições é verdadeira, isto é, se o número é divisível por 2 ou divisível por 3. Neste caso, uma, ou a outra, ou ambos as partes tem que ser verdadeira para o resultado ser verdadeiro.\n",
    "\n",
    "Finalmente, o operador *not* nega uma expressão booleana, de forma que not  x > y é verdadeiro se x > y é falso, isto é, se x é menor ou igual a y."
   ]
  },
  {
   "cell_type": "code",
   "execution_count": null,
   "metadata": {},
   "outputs": [],
   "source": [
    "x = 5\n",
    "print(x>0 and x<10)\n",
    "\n",
    "n = 25\n",
    "print(n%2 == 0 or n%3 == 0)\n",
    "print(not 2 == 0 or not 3 == 0)\n",
    "print(not 2 == 0 or not 3 == 0)"
   ]
  },
  {
   "cell_type": "code",
   "execution_count": null,
   "metadata": {},
   "outputs": [],
   "source": [
    "'''\n",
    "Operadores Lógicos \n",
    "and, or, not\n",
    "in e not in\n",
    "'''\n",
    "\n",
    "# Exemplo da aula\n",
    "\n",
    "usuario = input(\"Nome de usuário: \")\n",
    "senha = input(\"Senha do Usuário: \")\n",
    "\n",
    "usuario_bd = 'everton'\n",
    "senha_bd = '123456'\n",
    "\n",
    "if usuario_bd == usuario and senha_bd == senha:\n",
    "    print(\"Usuário logado no sistema\")\n",
    "else:\n",
    "    print(\"Usuário ou senha inválidos, tente novamente!\")"
   ]
  },
  {
   "cell_type": "markdown",
   "metadata": {},
   "source": [
    "## Erro comum!\n",
    "\n",
    "Existe um erro muito comum que ocorre quando programadores tentam escrever expressões booleanas. Por exemplo, suponha que queremos verificar se uma variável número tem valor 5, 6, or 7. Em palavras, podemos dizer: “número é igual a 5 ou 6 ou 7”. Entretanto, se traduzimos isto em Python, número == 5 or 6 or 7, isso não será correto. O operador or precisa juntar a verificação das três igualdades. A forma correta de escrever isto é número == 5 or número == 6 or número == 7. Isto pode parecer como um monte de digitação mas é absolutamente necessário. Não dá para fazer de forma mais compacta"
   ]
  },
  {
   "cell_type": "markdown",
   "metadata": {},
   "source": [
    "## Precedência de operadores\n",
    "Adicionamos um certo número de operadores àqueles que aprendemos nos capítulos anteriores. É importante entender como os operadores se relacionam entre si em relação à precedência. Python sempre usará os operadores aritméticos primeiro (exponenciação primeiro, depois multiplicação/divisão e depois adição/subtração). Depois vêm os operadores relacionais. Finalmente, os operadores lógicos vêm por último. Isto quer dizer que o valor da expressão x*5 >= 10 and y-6 <= 20 será determinado de forma que as operações aritméticas são feitas e depois as relações. O and será deixado por último. Embora muitos programadores poderiam colocar parênteses nas expressões relacionais, isto não é necessário.\n",
    "\n",
    "A tabela seguinte resume a precedência dos operadores em Python do maior ao menor. A tabela completa da linguagem pode ser encontrada em Python Documentation.\n",
    "\n",
    "<table style=\"width:40%\">\n",
    "<tr>\n",
    "<th>Nível</th>\n",
    "<th>Categoria</th>\n",
    "<th>Operadores</th>\n",
    "</tr>\n",
    "<tr>\n",
    "<td>7(alto</td>\n",
    "<td>exponenciação</td>\n",
    "<td>**</td>\n",
    "</tr>\n",
    "<tr>\n",
    "<td>6</td>\n",
    "<td>multiplicação</td>\n",
    "<td>*;/;//;%</td>\n",
    "</tr>\n",
    "<tr>\n",
    "<td>5</td>\n",
    "<td>adição</td>\n",
    "<td> +;- </td>\n",
    "</tr>\n",
    "<tr>\n",
    "<td>4</td>\n",
    "<td>relacional</td>\n",
    "<td>==; !=; <=; >=; <; > </td>\n",
    "</tr>\n",
    "<tr>\n",
    "<td>3</td>\n",
    "<td>lógico</td>\n",
    "<td>not</td>\n",
    "</tr>\n",
    "<tr>\n",
    "<td>2</td>\n",
    "<td>lógico</td>\n",
    "<td>and</td>\n",
    "</tr>\n",
    "<tr>\n",
    "<td>1(baixo)</td>\n",
    "<td>lógico</td>\n",
    "<td>or</td>\n",
    "</tr>\n",
    "</table>"
   ]
  },
  {
   "cell_type": "markdown",
   "metadata": {},
   "source": []
  }
 ],
 "metadata": {
  "interpreter": {
   "hash": "b84bade0d67267c26af221a72f156c0e2ce5b84c8e3bd3bfae8e7c13b6cca163"
  },
  "kernelspec": {
   "display_name": "Python 3.9.10 64-bit",
   "language": "python",
   "name": "python3"
  },
  "language_info": {
   "codemirror_mode": {
    "name": "ipython",
    "version": 3
   },
   "file_extension": ".py",
   "mimetype": "text/x-python",
   "name": "python",
   "nbconvert_exporter": "python",
   "pygments_lexer": "ipython3",
   "version": "3.9.10"
  },
  "orig_nbformat": 4
 },
 "nbformat": 4,
 "nbformat_minor": 2
}
