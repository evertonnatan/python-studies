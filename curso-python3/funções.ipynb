{
 "cells": [
  {
   "cell_type": "markdown",
   "metadata": {},
   "source": [
    "# Conceito de Função (no Python)\n",
    "**Funções**, também conhecidas como subprogramas ou subrotinas, são pequenos blocos de código aos quais se dá um nome, desenvolvidos para resolver tarefas específicas. Tais funções constituem um elemento de fundamental importância na moderna programação de computadores, a ponto de ser possível afirmar que, atualmente, nenhum programa de computador é desenvolvido sem o uso desse recurso. Em programação de computadores, o termo “**função**” tem um significado totalmente diferente daquele empregado em outras áreas do conhecimento, como matemática, biologia ou química. No contexto de programação, uma função é um conjunto de comandos, ou bloco de código, ao qual se atribui um nome identificador que executa certa tarefa, e pode produzir e retornar algum resultado. Um segundo aspecto fundamental relativo ao uso de funções em programas diz respeito à eliminação da redundância possibilitada pelo **reúso de um código pronto**."
   ]
  },
  {
   "cell_type": "markdown",
   "metadata": {},
   "source": []
  }
 ],
 "metadata": {
  "language_info": {
   "name": "python"
  },
  "orig_nbformat": 4
 },
 "nbformat": 4,
 "nbformat_minor": 2
}
