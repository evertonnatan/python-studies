{
 "cells": [
  {
   "cell_type": "markdown",
   "metadata": {},
   "source": [
    "# Laço *for*\n",
    "\n",
    "## Padrão de Laço: Laço Contador\n",
    "Outro padrão de laço que estivemos usando é a repetição por uma sequência de inteiros, especificada com a função range():\n",
    "\n",
    ">>> for i in range(10):\n",
    "print(i, end=' ')\n",
    "0 1 2 3 4 5 6 7 8 9\n",
    "\n",
    "Usamos esse padrão, que chamamos de padrão de **laço contador**, quando precisamos executar um bloco de código para cada inteiro em algum intervalo (range). Por exemplo, podemos querer encontrar (e exibir) todos os números pares de 0 até algum inteiro *n*:"
   ]
  },
  {
   "cell_type": "code",
   "execution_count": 2,
   "metadata": {},
   "outputs": [
    {
     "name": "stdout",
     "output_type": "stream",
     "text": [
      "024681012141618"
     ]
    }
   ],
   "source": [
    "n = 20\n",
    "for i in range(n):\n",
    "    if i % 2 == 0:\n",
    "        print(i, end = '')"
   ]
  },
  {
   "cell_type": "markdown",
   "metadata": {},
   "source": [
    "## <a href=\"https://panda.ime.usp.br/pensepy/static/pensepy/07-Iteracao/maisiteracao.html#mais-sobre-iteracao\">Mais sobre Iteração</a>\n",
    "\n",
    "Realizar tarefas repetitivas sem cometer erros é algo que os computadores fazem bem e as pessoas nem tanto. É por isso que os computadores são utilizados muitas vezes para automatizar esses tipos de tarefas.\n",
    "\n",
    "A execução repetida de uma sequência de instruções é chamada de **iteração** (iteration). Como iterar é muito comum, Python tem várias características para torná-la mais fácil. Nós já vimos o comando for no Capítulo 3. Esta é uma forma muito comum de iteração em Python. Neste capítulo também vamos ver o comando while — como uma outra maneira de fazer iterações em seus programas.\n",
    "\n",
    "### Mais sobre o comando for\n",
    "Lembre-se que o comando *for* processa cada item em uma lista. Cada item, por sua vez, é (re)atribuído a variável de contagem, e o corpo do laço é executado. Vimos este exemplo em um capítulo anterior."
   ]
  },
  {
   "cell_type": "code",
   "execution_count": 1,
   "metadata": {},
   "outputs": [
    {
     "name": "stdout",
     "output_type": "stream",
     "text": [
      "Hi Joe.  Please come to my party on Saturday!\n",
      "Hi Amy.  Please come to my party on Saturday!\n",
      "Hi Brad.  Please come to my party on Saturday!\n",
      "Hi Angelina.  Please come to my party on Saturday!\n",
      "Hi Zuki.  Please come to my party on Saturday!\n",
      "Hi Thandi.  Please come to my party on Saturday!\n",
      "Hi Paris.  Please come to my party on Saturday!\n"
     ]
    }
   ],
   "source": [
    "for f in [\"Joe\", \"Amy\", \"Brad\", \"Angelina\", \"Zuki\", \"Thandi\", \"Paris\"]:\n",
    "    invitation = \"Hi \" + f + \".  Please come to my party on Saturday!\"\n",
    "    print(invitation)"
   ]
  },
  {
   "cell_type": "markdown",
   "metadata": {},
   "source": [
    "Vimos também que uma iteração pode ser combinada com a idéia de atualização para formar o padrão acumulador. Por exemplo, para calcular a soma dos primeiros *n* números inteiros, é possível criar um loop usando o comando *range* para produzir os números de 1 a n. Usando o padrão acumulador, podemos começar com um total parcial e, a cada iteração, adicionar o valor atual à variável de controle. Uma função para calcular esta soma é mostrado abaixo."
   ]
  },
  {
   "cell_type": "code",
   "execution_count": 4,
   "metadata": {},
   "outputs": [
    {
     "name": "stdout",
     "output_type": "stream",
     "text": [
      "15\n",
      "500500\n"
     ]
    }
   ],
   "source": [
    "def someAte(limite):\n",
    "    soma = 0\n",
    "    for numero in range(1, limite + 1):\n",
    "        soma = soma + numero\n",
    "\n",
    "    return soma\n",
    "\n",
    "print(someAte(5))\n",
    "\n",
    "print(someAte(1000))"
   ]
  },
  {
   "cell_type": "markdown",
   "metadata": {},
   "source": [
    "Para rever, a variável *soma* é chamado de acumulador. Ela é inicializada com zero antes de iniciar o laço. A variável do laço, *numero* irá assumir os valores retornados pela chamada de função range(1, limite+1). Note que esta chamada produz uma lista com todos os inteiros a partir de 1 até o valor de limite+1. Se não tivéssemos adicionado 1 em limite a função range teria devolvido uma lista sem o valor limite pois essa função não inclui o limite superior.\n",
    "\n",
    "O comando de atribuição, *soma = soma + numero*, atualiza o valor de soma a cada iteração do laço. A variável soma recebe portanto o total parcial até um determinado instante da execução. Finalmente, a função someAte retorna o valor do acumulador."
   ]
  },
  {
   "cell_type": "markdown",
   "metadata": {},
   "source": [
    "## <a href=\"https://panda.ime.usp.br/pensepy/static/pensepy/07-Iteracao/maisiteracao.html#o-comando-while\">O Comando while</a>\n",
    "Há um outro comando Python que pode ser usado para construir uma iteração. Ele é o comando while. O while fornece um mecanismo muito mais geral para a iteração. Semelhante ao comando if, ele usa uma expressão booleana para controlar o fluxo de execução. O corpo do while será repetido enquanto a expressão booleana de controle for avaliada como True.\n",
    "\n",
    "A figura a seguir mostra o fluxo de controle.\n",
    "\n",
    "https://panda.ime.usp.br/pensepy/static/pensepy/_images/while_flow.png\n",
    "\n",
    "Podemos usar o while para criar qualquer tipo de iteração, incluindo tudo o que já fizemos com um comando for. Por exemplo, o programa na seção anterior poderia ser reescrito usando o while. Ao invés de utilizar a função range para produzir os números para calcular a somatória, vamos precisar programar uma forma de produzi-los. Para isso, vamos criar uma variável chamada numero e inicializá-la com 1, o primeiro número da somatória. Cada iteração irá adicionar numero ao total parcial até que todos os valores tenham sido usados. Para controlar a iteração, temos de criar uma expressão booleana que deve ser avaliada como True enquanto desejarmos acrescentar valores ao total. Neste caso, a somatória deve continuar enquanto o numero for menor ou igual ao limite.\n",
    "\n",
    "A seguir ilustramos uma nova versão do programa que calcula a somatória utilizando o comando while."
   ]
  },
  {
   "cell_type": "code",
   "execution_count": 5,
   "metadata": {},
   "outputs": [
    {
     "name": "stdout",
     "output_type": "stream",
     "text": [
      "10\n",
      "500500\n"
     ]
    }
   ],
   "source": [
    "def someAte(limite):\n",
    "    \"\"\" Retorna a soma de 1+2+3 ... n \"\"\"\n",
    "\n",
    "    soma  = 0\n",
    "    numero = 1\n",
    "    while numero <= limite:\n",
    "        soma = soma + numero\n",
    "        numero = numero + 1\n",
    "    return soma\n",
    "\n",
    "print(someAte(4))\n",
    "\n",
    "print(someAte(1000))"
   ]
  },
  {
   "cell_type": "markdown",
   "metadata": {},
   "source": [
    "Você quase pode ler o while como se fosse em linguagem natural como se fosse a palavara enquanto. Isso significa que, enquanto numero for menor ou igual a limite, continue a executar o corpo do laço. Dentro do corpo, atualize soma usando o padrão acumulador e incremente numero para produzir o próximo elemento da somatória. Ao final da execução do corpo do laço, vamos voltar a testar a condição do while. Quando numero tornar-se maior que limite, a condição falha e o próximo comando a ser executado de acordo com o fluxo de execução do while é o comando return."
   ]
  }
 ],
 "metadata": {
  "interpreter": {
   "hash": "b84bade0d67267c26af221a72f156c0e2ce5b84c8e3bd3bfae8e7c13b6cca163"
  },
  "kernelspec": {
   "display_name": "Python 3.9.10 64-bit",
   "language": "python",
   "name": "python3"
  },
  "language_info": {
   "codemirror_mode": {
    "name": "ipython",
    "version": 3
   },
   "file_extension": ".py",
   "mimetype": "text/x-python",
   "name": "python",
   "nbconvert_exporter": "python",
   "pygments_lexer": "ipython3",
   "version": "3.9.10"
  },
  "orig_nbformat": 4
 },
 "nbformat": 4,
 "nbformat_minor": 2
}
