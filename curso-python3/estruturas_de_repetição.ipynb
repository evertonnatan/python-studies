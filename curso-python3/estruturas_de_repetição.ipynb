{
 "cells": [
  {
   "cell_type": "markdown",
   "metadata": {},
   "source": [
    "# Laço *for*\n",
    "\n",
    "## Padrão de Laço: Laço Contador\n",
    "Outro padrão de laço que estivemos usando é a repetição por uma sequência de inteiros, especificada com a função range():\n",
    "\n",
    ">>> for i in range(10):\n",
    "print(i, end=' ')\n",
    "0 1 2 3 4 5 6 7 8 9\n",
    "\n",
    "Usamos esse padrão, que chamamos de padrão de **laço contador**, quando precisamos executar um bloco de código para cada inteiro em algum intervalo (range). Por exemplo, podemos querer encontrar (e exibir) todos os números pares de 0 até algum inteiro *n*:"
   ]
  },
  {
   "cell_type": "code",
   "execution_count": 2,
   "metadata": {},
   "outputs": [
    {
     "name": "stdout",
     "output_type": "stream",
     "text": [
      "024681012141618"
     ]
    }
   ],
   "source": [
    "n = 20\n",
    "for i in range(n):\n",
    "    if i % 2 == 0:\n",
    "        print(i, end = '')"
   ]
  }
 ],
 "metadata": {
  "interpreter": {
   "hash": "b84bade0d67267c26af221a72f156c0e2ce5b84c8e3bd3bfae8e7c13b6cca163"
  },
  "kernelspec": {
   "display_name": "Python 3.9.10 64-bit",
   "language": "python",
   "name": "python3"
  },
  "language_info": {
   "codemirror_mode": {
    "name": "ipython",
    "version": 3
   },
   "file_extension": ".py",
   "mimetype": "text/x-python",
   "name": "python",
   "nbconvert_exporter": "python",
   "pygments_lexer": "ipython3",
   "version": "3.9.10"
  },
  "orig_nbformat": 4
 },
 "nbformat": 4,
 "nbformat_minor": 2
}
