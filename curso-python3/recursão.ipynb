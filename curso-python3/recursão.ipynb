{
 "cells": [
  {
   "cell_type": "markdown",
   "metadata": {},
   "source": [
    "## Recursão\n",
    "\n",
    "A recursão é uma técnica de solução de problemas que expressa a solução para um problema em termos de soluções para subproblemas do problema original. A recursão pode ser usada para resolver problemas que, de outra forma, poderiam ser bastante desafiadores. As funções desenvolvidas solucionando um problema recursivamente chamarão a si mesmas, e nos referiremos a elas como funções recursivas. \n",
    "\n",
    "Nesse sentido, uma função recursiva é uma função que chama a si mesma.\n",
    "\n"
   ]
  },
  {
   "cell_type": "code",
   "execution_count": null,
   "metadata": {},
   "outputs": [],
   "source": [
    "# Exemplo de função recursiva:\n",
    "def countdown(n):\n",
    "    print(n)\n",
    "    countdown(n-1)\n",
    "\n",
    "countdown(5)"
   ]
  },
  {
   "cell_type": "markdown",
   "metadata": {},
   "source": [
    "Na implementação da função countdown(), a função countdown() é chamada. Portanto, a função countdown() chama a si mesma. Quando uma função chama a si mesma, dizemos que ela faz uma **chamada recursiva**.\n",
    "\n",
    "**Uma função recursiva que termina (que não será executada indefinidamente) sempre terá:** \n",
    "    1.Um ou mais casos básicos, que oferecem a condição de término para a recursão. \n",
    "    2.Uma ou mais chamadas recursivas, que precisam estar nos argumentos que ficam “mais próximos” do caso básico do que a entrada da função. \n",
    "\n"
   ]
  },
  {
   "cell_type": "markdown",
   "metadata": {},
   "source": [
    "## Pensamento Recursivo\n",
    "\n"
   ]
  }
 ],
 "metadata": {
  "interpreter": {
   "hash": "9c46e8c7d271d72a6515f953d7789b76532a6cc9effab24c2a9e9967856ba292"
  },
  "kernelspec": {
   "display_name": "Python 3.9.10 64-bit",
   "language": "python",
   "name": "python3"
  },
  "language_info": {
   "codemirror_mode": {
    "name": "ipython",
    "version": 3
   },
   "file_extension": ".py",
   "mimetype": "text/x-python",
   "name": "python",
   "nbconvert_exporter": "python",
   "pygments_lexer": "ipython3",
   "version": "3.9.10"
  },
  "orig_nbformat": 4
 },
 "nbformat": 4,
 "nbformat_minor": 2
}
