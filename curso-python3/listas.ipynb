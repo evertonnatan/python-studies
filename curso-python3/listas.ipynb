{
 "cells": [
  {
   "cell_type": "markdown",
   "metadata": {},
   "source": [
    "## Listas\n",
    "Uma lista (list) em Python é uma sequência ou coleção ordenada de valores. Cada valor na lista é identificado por um índice. O valores que formam uma lista são chamados elementos ou itens. Listas são similares a strings, que são uma sequência de caracteres, no entanto, diferentemente de strings, os itens de uma lista podem ser de tipos diferentes."
   ]
  },
  {
   "cell_type": "markdown",
   "metadata": {},
   "source": [
    "## Valores em uma lista\n",
    "Existem várias maneiras de se criar uma nova lista. A maneira mais simples é envolver os elementos da lista por colchetes ( [ e ]).\n",
    "\n",
    "[10, 20, 30, 40]\n",
    "[\"spam\", \"bungee\", \"swallow\"]\n",
    "\n",
    "O primeiro exemplo é uma lista de quatro inteiros. O segundo é uma lista de três strings. Como dissemos anteriormente, os elementos de uma lista não precisam ser do mesmo tipo. A lista a seguir contém um string, um float, um inteiro e uma outra lista.\n",
    "\n",
    "[\"oi\", 2.0, 5, [10, 20]]\n",
    "\n",
    "Um lista em uma outra lista é dita aninhada (nested) e a lista mais interna é chamada frequentemente de sublista (sublist). Finalmente, existe uma lista especial que não contém elemento algum. Ela é chamada de lista vazia e é denotada por []. Como você esperaria, podemos também atribuir listas a variáveis e termos listas como parâmetro de funções."
   ]
  },
  {
   "cell_type": "code",
   "execution_count": 1,
   "metadata": {},
   "outputs": [
    {
     "name": "stdout",
     "output_type": "stream",
     "text": [
      "[17, 123]\n",
      "['ola', 2.0, 10, [10, 20]]\n",
      "[[17, 123], ['iteracao', 'selecao', 'controle']]\n"
     ]
    }
   ],
   "source": [
    "vocabulario = [\"iteracao\", \"selecao\", \"controle\"]\n",
    "numeros = [17, 123]\n",
    "vazia = []\n",
    "lista_mista = [\"ola\", 2.0, 5*2, [10, 20]]\n",
    "\n",
    "print(numeros)\n",
    "print(lista_mista)\n",
    "nova_lista = [numeros, vocabulario]\n",
    "print(nova_lista)"
   ]
  },
  {
   "cell_type": "markdown",
   "metadata": {},
   "source": [
    "## Comprimento de uma lista\n",
    "Da mesma forma que ocorre com strings, a função len retorna o comprimento de uma lista (o número de elementos na lista). Entretanto, como listas podem conter itens que são listas, é importante notar que len somente retorna o comprimento da lista mais externa. Em outras palavras, sublistas de uma lista são consideradas como sendo um elemento simples quando contamos o comprimento da lista."
   ]
  },
  {
   "cell_type": "code",
   "execution_count": 2,
   "metadata": {},
   "outputs": [
    {
     "name": "stdout",
     "output_type": "stream",
     "text": [
      "4\n",
      "4\n"
     ]
    }
   ],
   "source": [
    "uma_lista =  [\"ola\", 2.0, 5, [10, 20]]\n",
    "print(len(uma_lista))\n",
    "print(len(['spam!', 1, ['Brie', 'Roquefort', 'Pol le Veq'], [1, 2, 3]]))"
   ]
  },
  {
   "cell_type": "markdown",
   "metadata": {},
   "source": [
    "## Acessando os elementos\n",
    "A sintaxe para acessar um elemento de uma lista é a mesma usada para acessar um caractere de um string. Nós usamos o operador de indexação ( [] – não confundir com a lista vazia). A expressão dentro dos colchetes especifica o índice. Lembrar que o índice do primeiro elemento é 0. Qualquer expressão que tenha como resultado um número inteiro pode ser usada como índice e como com strings, índices negativos indicarão elementos da direita para a esquerda ao invés de da esquerda para a direita."
   ]
  },
  {
   "cell_type": "code",
   "execution_count": 3,
   "metadata": {},
   "outputs": [
    {
     "name": "stdout",
     "output_type": "stream",
     "text": [
      "87\n",
      "123\n",
      "8398\n",
      "44\n"
     ]
    }
   ],
   "source": [
    "numeros = [17, 123, 87, 34, 66, 8398, 44]\n",
    "print(numeros[2])\n",
    "print(numeros[9-8])\n",
    "print(numeros[-2])\n",
    "print(numeros[len(numeros)-1])"
   ]
  },
  {
   "cell_type": "markdown",
   "metadata": {},
   "source": [
    "### Teste seu conhecimento\n",
    "O que será impresso pelo trecho de código a seguir?\n"
   ]
  },
  {
   "cell_type": "code",
   "execution_count": null,
   "metadata": {},
   "outputs": [],
   "source": [
    "uma_lista = [3, 67, \"gato\", [56, 57, \"cachorro\"], [ ], 3.14, False]\n",
    "print(uma_lista[2].upper())"
   ]
  },
  {
   "cell_type": "markdown",
   "metadata": {},
   "source": [
    "Acertou se você respondeu \"GATO\". O código retorna o string 'gato' transformado em maiúsculo pelo método .upper."
   ]
  },
  {
   "cell_type": "markdown",
   "metadata": {},
   "source": [
    "E quanto ao trecho de código abaixo, você é capaz de acertar o que ele irá imprimir?"
   ]
  },
  {
   "cell_type": "code",
   "execution_count": 4,
   "metadata": {},
   "outputs": [
    {
     "name": "stdout",
     "output_type": "stream",
     "text": [
      "g\n"
     ]
    }
   ],
   "source": [
    "uma_lista = [3, 67, \"gato\", [56, 57, \"cachorro\"], [ ], 3.14, False]\n",
    "print(uma_lista[2][0])"
   ]
  },
  {
   "cell_type": "markdown",
   "metadata": {},
   "source": [
    "É possível usar mais de um índice, desde que use o fatiamento. Deve-se ler da esquerda para a direita. No caso, o resultado é o primeiro caractere do string de índice 2. "
   ]
  },
  {
   "cell_type": "markdown",
   "metadata": {},
   "source": [
    "## Pertinência em uma lista\n",
    "in e not in são operadores booleanos ou lógicos que testam a pertinência (membership) em uma sequência. Esses operadores também funcionam com strigs. "
   ]
  },
  {
   "cell_type": "code",
   "execution_count": 5,
   "metadata": {},
   "outputs": [
    {
     "name": "stdout",
     "output_type": "stream",
     "text": [
      "True\n",
      "False\n"
     ]
    }
   ],
   "source": [
    "frutas = [\"maca\", \"laranja\", \"banana\", \"cereja\"]\n",
    "\n",
    "print(\"maca\" in frutas)\n",
    "print(\"pera\" in frutas)"
   ]
  },
  {
   "cell_type": "markdown",
   "metadata": {},
   "source": [
    "## Concatenação e repetição\n",
    "Novamente, como com strings, o operador + concatena listas. Analogamente, o operador * repete os itens em uma lista um dado número de vezes. É importante perceber que esses operadores criam novas listas a partir dos elementos da lista dada. Se você concatena uma lista com 2 itens com uma lista com 4 itens, você obterá uma nova lista com 6 itens (não uma lista com duas sublistas). Similarmente, repetição de uma lista de 2 itens 4 vezes resultará em uma lista com 8 itens."
   ]
  },
  {
   "cell_type": "code",
   "execution_count": 6,
   "metadata": {},
   "outputs": [
    {
     "name": "stdout",
     "output_type": "stream",
     "text": [
      "[1, 2, 3, 4]\n",
      "['maca', 'laranja', 'banana', 'cereja', 6, 7, 8, 9]\n",
      "[0, 0, 0, 0]\n",
      "[1, 2, ['ola', 'adeus'], 1, 2, ['ola', 'adeus']]\n"
     ]
    }
   ],
   "source": [
    "frutas = [\"maca\", \"laranja\", \"banana\", \"cereja\"]\n",
    "print([1, 2] + [3, 4])\n",
    "print(frutas + [6, 7, 8, 9])\n",
    "\n",
    "print([0] * 4)\n",
    "print([1, 2, [\"ola\", \"adeus\"]]*2)"
   ]
  },
  {
   "cell_type": "markdown",
   "metadata": {},
   "source": [
    "## Fatias de listas\n"
   ]
  },
  {
   "cell_type": "markdown",
   "metadata": {},
   "source": []
  }
 ],
 "metadata": {
  "interpreter": {
   "hash": "b84bade0d67267c26af221a72f156c0e2ce5b84c8e3bd3bfae8e7c13b6cca163"
  },
  "kernelspec": {
   "display_name": "Python 3.9.10 64-bit",
   "language": "python",
   "name": "python3"
  },
  "language_info": {
   "codemirror_mode": {
    "name": "ipython",
    "version": 3
   },
   "file_extension": ".py",
   "mimetype": "text/x-python",
   "name": "python",
   "nbconvert_exporter": "python",
   "pygments_lexer": "ipython3",
   "version": "3.9.10"
  },
  "orig_nbformat": 4
 },
 "nbformat": 4,
 "nbformat_minor": 2
}
