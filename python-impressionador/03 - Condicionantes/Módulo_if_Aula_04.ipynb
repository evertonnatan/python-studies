{
  "cells": [
    {
      "cell_type": "markdown",
      "metadata": {
        "id": "ApWuMfhN5Lls"
      },
      "source": [
        "# Comparadores"
      ]
    },
    {
      "cell_type": "raw",
      "metadata": {
        "id": "IP3oejqv5Llw"
      },
      "source": [
        "\n",
        "```\n",
        "==    igual\n",
        "!=    diferente\n",
        ">     maior que (>= maior ou igual)\n",
        "<     menor que (<= menor ou igual)\n",
        "in    texto existe dentro de outro texto \n",
        "not   verifica o contrário da comparação\n",
        "\n",
        "Obs: Se em alguma condição você não quiser fazer nada, você pode simplesmente escrever:\n",
        "pass\n",
        "\n",
        "# Isto está formatado como código\n",
        "```\n",
        "\n"
      ]
    },
    {
      "cell_type": "code",
      "execution_count": 4,
      "metadata": {
        "colab": {
          "base_uri": "https://localhost:8080/"
        },
        "id": "nka1jLV75Lly",
        "outputId": "bdd66b02-7c4f-4d61-8bed-911c59d82d18"
      },
      "outputs": [
        {
          "output_type": "stream",
          "name": "stdout",
          "text": [
            "Programa 1\n",
            "Os faturamentos são diferentes\n"
          ]
        }
      ],
      "source": [
        "faturamento_loja_1 = 2500\n",
        "faturamento_loja_2 = 2200\n",
        "email = \"madara@gmail.com\"\n",
        "\n",
        "print('Programa 1')\n",
        "if faturamento_loja_1 == faturamento_loja_2:\n",
        "    print('Os faturamentos são iguais')\n",
        "else:\n",
        "    print('Os faturamentos são diferentes')\n"
      ]
    },
    {
      "cell_type": "code",
      "execution_count": 7,
      "metadata": {
        "colab": {
          "base_uri": "https://localhost:8080/"
        },
        "id": "VOZkrprS5Llz",
        "outputId": "6d226341-189d-4da1-d43b-9338e3e2ab09"
      },
      "outputs": [
        {
          "output_type": "stream",
          "name": "stdout",
          "text": [
            "Programa 2\n",
            "Esse é o email do Madara\n"
          ]
        }
      ],
      "source": [
        "print('Programa 2')\n",
        "if email == 'madara@gmail.com':\n",
        "    print('Esse é o email do Madara')\n",
        "else:\n",
        "    print('Email errado')"
      ]
    },
    {
      "cell_type": "code",
      "execution_count": 9,
      "metadata": {
        "colab": {
          "base_uri": "https://localhost:8080/"
        },
        "id": "yufowY_Q5Ll0",
        "outputId": "2208dd23-7325-4815-c1ee-a4b50c37af5f"
      },
      "outputs": [
        {
          "name": "stdout",
          "output_type": "stream",
          "text": [
            "Programa 3\n",
            "Insira seu e-mail:madara@gmail.com\n"
          ]
        }
      ],
      "source": [
        "print('Programa 3')\n",
        "email_usuario = input('Insira seu e-mail:')\n",
        "if not '@' in email_usuario:\n",
        "    print('Email Inválido')\n",
        "else:\n",
        "    pass"
      ]
    }
  ],
  "metadata": {
    "kernelspec": {
      "display_name": "Python 3",
      "language": "python",
      "name": "python3"
    },
    "language_info": {
      "codemirror_mode": {
        "name": "ipython",
        "version": 3
      },
      "file_extension": ".py",
      "mimetype": "text/x-python",
      "name": "python",
      "nbconvert_exporter": "python",
      "pygments_lexer": "ipython3",
      "version": "3.8.3"
    },
    "colab": {
      "name": "Módulo if - Aula 04.ipynb",
      "provenance": []
    }
  },
  "nbformat": 4,
  "nbformat_minor": 0
}