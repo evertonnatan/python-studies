{
  "cells": [
    {
      "cell_type": "markdown",
      "metadata": {
        "id": "3Y7Rw7m-yEAl"
      },
      "source": [
        "# elif\n",
        "\n",
        "E se temos mais do que um caso de sim e não?\n",
        "\n",
        "E se tivermos 3 casos?\n",
        "\n",
        "Usamos o elif da seguinte forma:"
      ]
    },
    {
      "cell_type": "raw",
      "metadata": {
        "id": "XmftvPhEyEAq"
      },
      "source": [
        "```\n",
        "if condição:\n",
        "    o que fazer se a condição 1 for verdadeira\n",
        "elif condição_2:\n",
        "    o que fazer se a condição 1 for falsa e a condição 2 for verdadeira\n",
        "else:\n",
        "    o que fazer se a condição 1 e a condição 2 forem falsas\n",
        "\n",
        "\n",
        "# Isto está formatado como código\n",
        "```\n",
        "\n"
      ]
    },
    {
      "cell_type": "markdown",
      "metadata": {
        "id": "659vYlcYyEAr"
      },
      "source": [
        "### Exemplo:\n",
        "\n",
        "Vamos criar um programa para analisar o bônus dos funcionários de uma empresa (pode parecer \"simples\", mas uma empresa como a Amazon tem 900.000 funcionários)\n",
        "\n",
        "Para os cargos de vendedores, a regra do bônus é de acordo com a meta de vendas da pessoa:\n",
        "\n",
        "Se ela vendeu abaixo da meta dela, ela não ganha bônus.\n",
        "\n",
        "Se ela vendeu acima da meta dela, ela ganha como bônus 3% do valor que ela vendeu.\n",
        "\n",
        "Se ela vendeu mais do que o dobro da meta dela, ela ganha como bônus 7% do valor que ela vendeu.\n",
        "\n",
        "Vamos criar um programa para avaliar uma pessoa que tinha como meta de vendas 20.000 reais e calcular o bônus dela de acordo com o valor de vendas que ela tiver."
      ]
    },
    {
      "cell_type": "code",
      "execution_count": null,
      "metadata": {
        "id": "tMr1--LuyEAr",
        "colab": {
          "base_uri": "https://localhost:8080/"
        },
        "outputId": "557fd62c-f805-4c61-ff64-64e3bd541d2a"
      },
      "outputs": [
        {
          "output_type": "stream",
          "name": "stdout",
          "text": [
            "Você atingiu mais que o dobro da meta. Portanto, receberá um bônus de R$ 3500.0000000000005\n"
          ]
        }
      ],
      "source": [
        "meta = 20000\n",
        "venda = 50000\n",
        "\n",
        "if venda < meta:\n",
        "  print(\"Infelizmente, você não atingiu a meta de vendas. Portanto, não ganhará bônus\")\n",
        "  \n",
        "elif venda > (meta * 2):\n",
        "  bonus = venda * 0.07\n",
        "  print(\"Você atingiu mais que o dobro da meta. Portanto, receberá um bônus de R$ {}\".format(bonus))\n",
        "else:\n",
        "  bonus = venda * 0.03\n",
        "  print(\"Você atingiu a meta. Portanto, receberá um bônus de R$ {}\".format(bonus))  "
      ]
    }
  ],
  "metadata": {
    "kernelspec": {
      "display_name": "Python 3",
      "language": "python",
      "name": "python3"
    },
    "language_info": {
      "codemirror_mode": {
        "name": "ipython",
        "version": 3
      },
      "file_extension": ".py",
      "mimetype": "text/x-python",
      "name": "python",
      "nbconvert_exporter": "python",
      "pygments_lexer": "ipython3",
      "version": "3.8.3"
    },
    "colab": {
      "name": "Módulo if - Aula 03.ipynb",
      "provenance": [],
      "collapsed_sections": []
    }
  },
  "nbformat": 4,
  "nbformat_minor": 0
}